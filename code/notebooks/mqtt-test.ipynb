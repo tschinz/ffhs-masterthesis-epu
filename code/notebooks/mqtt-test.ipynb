{
 "cells": [
  {
   "cell_type": "markdown",
   "metadata": {},
   "source": [
    "# Simple MQTT Test"
   ]
  },
  {
   "cell_type": "code",
   "execution_count": 8,
   "metadata": {},
   "outputs": [
    {
     "name": "stdout",
     "output_type": "stream",
     "text": [
      "Requirement already satisfied: paho-mqtt in c:\\users\\zas\\anaconda3\\lib\\site-packages (1.5.1)\n",
      "Collecting opencv-python\n",
      "  Downloading opencv_python-4.4.0.46-cp38-cp38-win_amd64.whl (33.5 MB)\n",
      "Requirement already satisfied: numpy>=1.17.3 in c:\\users\\zas\\anaconda3\\lib\\site-packages (from opencv-python) (1.18.5)\n",
      "Installing collected packages: opencv-python\n",
      "Successfully installed opencv-python-4.4.0.46\n",
      "Collecting rich\n",
      "  Downloading rich-9.2.0-py3-none-any.whl (164 kB)\n",
      "Requirement already satisfied: colorama<0.5.0,>=0.4.0 in c:\\users\\zas\\anaconda3\\lib\\site-packages (from rich) (0.4.3)\n",
      "Collecting commonmark<0.10.0,>=0.9.0\n",
      "  Using cached commonmark-0.9.1-py2.py3-none-any.whl (51 kB)\n",
      "Requirement already satisfied: typing-extensions<4.0.0,>=3.7.4 in c:\\users\\zas\\anaconda3\\lib\\site-packages (from rich) (3.7.4.2)\n",
      "Requirement already satisfied: pygments<3.0.0,>=2.6.0 in c:\\users\\zas\\anaconda3\\lib\\site-packages (from rich) (2.6.1)\n",
      "Installing collected packages: commonmark, rich\n",
      "Successfully installed commonmark-0.9.1 rich-9.2.0\n"
     ]
    }
   ],
   "source": [
    "!pip3 install paho-mqtt"
   ]
  },
  {
   "cell_type": "code",
   "execution_count": 1,
   "metadata": {},
   "outputs": [],
   "source": [
    "from functions import *\n",
    "import paho.mqtt.client as mqtt \n",
    "from random import randrange, uniform"
   ]
  },
  {
   "cell_type": "code",
   "execution_count": 2,
   "metadata": {},
   "outputs": [
    {
     "data": {
      "text/html": [
       "<pre style=\"white-space:pre;overflow-x:auto;line-height:normal;font-family:Menlo,'DejaVu Sans Mono',consolas,'Courier New',monospace\">Retcode : <span style=\"color: #000080; font-weight: bold\">0</span>, mid : <span style=\"color: #000080; font-weight: bold\">1</span>\n",
       "</pre>\n"
      ],
      "text/plain": [
       "<rich.jupyter.JupyterRenderable at 0xa52a3dd0>"
      ]
     },
     "metadata": {},
     "output_type": "display_data"
    },
    {
     "data": {
      "text/html": [
       "<pre style=\"white-space:pre;overflow-x:auto;line-height:normal;font-family:Menlo,'DejaVu Sans Mono',consolas,'Courier New',monospace\">Retcode : <span style=\"color: #000080; font-weight: bold\">0</span>, mid : <span style=\"color: #000080; font-weight: bold\">2</span>\n",
       "</pre>\n"
      ],
      "text/plain": [
       "<rich.jupyter.JupyterRenderable at 0xa52a3dd0>"
      ]
     },
     "metadata": {},
     "output_type": "display_data"
    },
    {
     "data": {
      "text/html": [
       "<pre style=\"white-space:pre;overflow-x:auto;line-height:normal;font-family:Menlo,'DejaVu Sans Mono',consolas,'Courier New',monospace\">Retcode : <span style=\"color: #000080; font-weight: bold\">0</span>, mid : <span style=\"color: #000080; font-weight: bold\">3</span>\n",
       "</pre>\n"
      ],
      "text/plain": [
       "<rich.jupyter.JupyterRenderable at 0xa52a3c70>"
      ]
     },
     "metadata": {},
     "output_type": "display_data"
    },
    {
     "data": {
      "text/html": [
       "<pre style=\"white-space:pre;overflow-x:auto;line-height:normal;font-family:Menlo,'DejaVu Sans Mono',consolas,'Courier New',monospace\">Retcode : <span style=\"color: #000080; font-weight: bold\">0</span>, mid : <span style=\"color: #000080; font-weight: bold\">4</span>\n",
       "</pre>\n"
      ],
      "text/plain": [
       "<rich.jupyter.JupyterRenderable at 0xa52a3df0>"
      ]
     },
     "metadata": {},
     "output_type": "display_data"
    },
    {
     "data": {
      "text/html": [
       "<pre style=\"white-space:pre;overflow-x:auto;line-height:normal;font-family:Menlo,'DejaVu Sans Mono',consolas,'Courier New',monospace\">Retcode : <span style=\"color: #000080; font-weight: bold\">0</span>, mid : <span style=\"color: #000080; font-weight: bold\">5</span>\n",
       "</pre>\n"
      ],
      "text/plain": [
       "<rich.jupyter.JupyterRenderable at 0xa52a3e10>"
      ]
     },
     "metadata": {},
     "output_type": "display_data"
    }
   ],
   "source": [
    "# connection callback\n",
    "def on_connect(client, userdata, flags, rc):\n",
    "   print(\"Connected with result code \" + str(rc))\n",
    "\n",
    "# message received callback\n",
    "def on_message(client, userdata, msg):\n",
    "   print(msg.topic + \" \" + str(msg.payload))\n",
    "   client.publish(\"/out\", \"received an input...\")\n",
    "\n",
    "  \n",
    "  \n",
    "# set up the client\n",
    "client = mqtt.Client()\n",
    "client.on_connect = on_connect\n",
    "client.on_message = on_message\n",
    "client.username_pw_set(MQTT_USERNAME, MQTT_PASSWORD)\n",
    "client.connect(MQTT_BROKER, MQTT_PORT, MQTT_KEEPALIVE)\n",
    "\n",
    "# publish messages...\n",
    "for index in range(5):\n",
    "  timestamp = time.time()\n",
    "  msg = \"Mqtt Message\"\n",
    "  ret_code = client.publish(MQTT_TOPIC_TEST, payload=msg, qos=0, retain=False)\n",
    "  print(\"Retcode : {retcode}, mid : {mid}\".format(retcode=ret_code.rc, mid=ret_code.mid))\n",
    "  time.sleep(1)"
   ]
  },
  {
   "cell_type": "code",
   "execution_count": null,
   "metadata": {},
   "outputs": [
    {
     "data": {
      "text/html": [
       "<pre style=\"white-space:pre;overflow-x:auto;line-height:normal;font-family:Menlo,'DejaVu Sans Mono',consolas,'Courier New',monospace\">Connected with result code <span style=\"color: #000080; font-weight: bold\">0</span>\n",
       "</pre>\n"
      ],
      "text/plain": [
       "<rich.jupyter.JupyterRenderable at 0xb432aab0>"
      ]
     },
     "metadata": {},
     "output_type": "display_data"
    },
    {
     "data": {
      "text/html": [
       "<pre style=\"white-space:pre;overflow-x:auto;line-height:normal;font-family:Menlo,'DejaVu Sans Mono',consolas,'Courier New',monospace\">$SYS/broker/uptime <span style=\"color: #008000\">b'5346 seconds'</span>\n",
       "</pre>\n"
      ],
      "text/plain": [
       "<rich.jupyter.JupyterRenderable at 0xa53f7ed0>"
      ]
     },
     "metadata": {},
     "output_type": "display_data"
    },
    {
     "data": {
      "text/html": [
       "<pre style=\"white-space:pre;overflow-x:auto;line-height:normal;font-family:Menlo,'DejaVu Sans Mono',consolas,'Courier New',monospace\">$SYS/broker/uptime <span style=\"color: #008000\">b'5357 seconds'</span>\n",
       "</pre>\n"
      ],
      "text/plain": [
       "<rich.jupyter.JupyterRenderable at 0xa53f7650>"
      ]
     },
     "metadata": {},
     "output_type": "display_data"
    }
   ],
   "source": [
    "# subscribe\n",
    "client.subscribe(MQTT_TOPIC_UPTIME)\n",
    "\n",
    "# process the MQTT business\n",
    "client.loop_forever()"
   ]
  },
  {
   "cell_type": "code",
   "execution_count": null,
   "metadata": {},
   "outputs": [],
   "source": []
  }
 ],
 "metadata": {
  "kernelspec": {
   "display_name": "Python 3",
   "language": "python",
   "name": "python3"
  },
  "language_info": {
   "codemirror_mode": {
    "name": "ipython",
    "version": 3
   },
   "file_extension": ".py",
   "mimetype": "text/x-python",
   "name": "python",
   "nbconvert_exporter": "python",
   "pygments_lexer": "ipython3",
   "version": "3.6.5"
  }
 },
 "nbformat": 4,
 "nbformat_minor": 4
}
